{
 "cells": [
  {
   "cell_type": "markdown",
   "metadata": {
    "vscode": {
     "languageId": "plaintext"
    }
   },
   "source": [
    "## Execises: Module 16 - Classes and Objects"
   ]
  },
  {
   "cell_type": "markdown",
   "metadata": {},
   "source": [
    "### Execises: Level 1"
   ]
  },
  {
   "cell_type": "markdown",
   "metadata": {},
   "source": [
    "1. Python has the module called statistics and we can use this module to do all the statistical calculations. However, to learn how to make function and reuse function let us try to develop a program, which calculates the measure of central tendency of a sample (mean, median, mode) and measure of variability (range, variance, standard deviation). In addition to those measures, find the min, max, count, percentile, and frequency distribution of the sample. You can create a class called Statistics and create all the functions that do statistical calculations as methods for the Statistics class."
   ]
  },
  {
   "cell_type": "code",
   "execution_count": null,
   "metadata": {},
   "outputs": [],
   "source": [
    "# Class statistics which calculates the mean, median, mode, range, variance, standard deviation, min, max, count, percentile and frequency distribution of a list of numbers.\n",
    "\n",
    "class Statistics:\n",
    "    \n",
    "    def __init__(self, stats):\n",
    "        self.data = stats \n",
    "\n",
    "#count\n",
    "    def count(self):\n",
    "        return len(self.data)\n",
    "\n",
    "#Summation\n",
    "    def sum(self):\n",
    "        return sum(self.data)\n",
    "\n",
    "#Minimum\n",
    "    def min(self):\n",
    "        return min(self.data)\n",
    "\n",
    "#Maximum\n",
    "    def max(self):\n",
    "        return max(self.data)\n",
    "    \n",
    "#Range\n",
    "    def range(self):\n",
    "        return self.max() - self.min()\n",
    "    \n",
    "#Mean \n",
    "    def mean(self):\n",
    "        return self.sum() / self.count()\n",
    "    \n",
    "#Median\n",
    "    def median(self):\n",
    "        sorted_data = sorted(self.data)\n",
    "        n = self.count()\n",
    "        mid = n // 2\n",
    "        if n % 2 == 0:\n",
    "            return (sorted_data[mid - 1] + sorted_data[mid]) / 2\n",
    "        else:\n",
    "            return sorted_data[mid]\n",
    "\n",
    "#Mode  \n",
    "    def mode(self):\n",
    "        freq = {}\n",
    "        for num in self.data:\n",
    "            freq[num] = freq.get(num, 0) + 1\n",
    "        max_freq = max(freq.values())\n",
    "        mode = [key for key, val in freq.items() if val == max_freq]\n",
    "        return {'mode': mode[0] if len(mode) == 1 else mode, 'count': max_freq}\n",
    "\n",
    "#variance\n",
    "    def var(self):\n",
    "        mean = self.mean()\n",
    "        return sum((x - mean) ** 2 for x in self.data) / self.count()\n",
    "\n",
    "#Standard deviation\n",
    "    def std(self):\n",
    "        return self.var() ** 0.5  \n",
    "\n",
    "# Frequency Distribution \n",
    "    def freq_dist(self):\n",
    "        \"\"\"Return the frequency distribution of the data\"\"\"\n",
    "        counter = {}\n",
    "        for i in self.data:\n",
    "            if i in counter:\n",
    "                counter[i] += 1\n",
    "            else:\n",
    "                counter[i] = 1\n",
    "        freq_list = [(v, k) for k, v in counter.items()]\n",
    "        freq_list.sort(reverse=True)\n",
    "        return freq_list\n",
    "\n",
    "\n",
    "# Test the class\n",
    "ages = [31, 26, 34, 37, 27, 26, 32, 32, 26, 27, 27, 24, 32, 33, 27, 25, 26, 38, 37, 31, 34, 24, 33, 29, 26]\n",
    "data = Statistics(ages)\n",
    "\n",
    "print('Count:', data.count())\n",
    "print('Sum:', data.sum())\n",
    "print('Min:', data.min())\n",
    "print('Max:', data.max())\n",
    "print('Range:', data.range())\n",
    "print('Mean:', data.mean())\n",
    "print('Median:', data.median())\n",
    "print('Mode:', data.mode())\n",
    "print('Standard Deviation:', data.std())\n",
    "print('Variance:', data.var())\n",
    "print('Frequency Distribution:', data.freq_dist())"
   ]
  },
  {
   "cell_type": "markdown",
   "metadata": {},
   "source": [
    "2. Create a class called PersonAccount. It has firstname, lastname, incomes, expenses properties and it has total_income, total_expense, account_info, add_income, add_expense and account_balance methods. Incomes is a set of incomes and its description. The same goes for expenses"
   ]
  },
  {
   "cell_type": "code",
   "execution_count": null,
   "metadata": {},
   "outputs": [],
   "source": [
    "#Create a class called PersonAccount. It has firstname, lastname, incomes, expenses properties and it has total_income, total_expense, account_info, add_income, add_expense and account_balance methods. Incomes is a set of incomes and its description. The same goes for expenses\n",
    "\n",
    "class PersonAccount:\n",
    "    def __init__(self, firstname, lastname):\n",
    "        self.firstname = firstname\n",
    "        self.lastname = lastname\n",
    "        self.incomes = []  # List of dictionaries for incomes (e.g., [{'amount': 1000, 'description': 'Salary'}])\n",
    "        self.expenses = []  # List of dictionaries for expenses (e.g., [{'amount': 200, 'description': 'Groceries'}])\n",
    "\n",
    "    def total_income(self):\n",
    "        return sum(income['amount'] for income in self.incomes)\n",
    "\n",
    "    def total_expense(self):\n",
    "        return sum(expense['amount'] for expense in self.expenses)\n",
    "\n",
    "    def account_info(self):\n",
    "        return f\"Account Holder: {self.firstname} {self.lastname}\\nTotal Income: {self.total_income()}\\nTotal Expense: {self.total_expense()}\\nBalance: {self.account_balance()}\"\n",
    "\n",
    "    def add_income(self, amount, description):\n",
    "        self.incomes.append({\"amount\": amount, \"description\": description})\n",
    "\n",
    "    def add_expense(self, amount, description):\n",
    "        self.expenses.append({\"amount\": amount, \"description\": description})\n",
    "\n",
    "    def account_balance(self):\n",
    "        return self.total_income() - self.total_expense()\n",
    "\n",
    "\n",
    "# Test the class\n",
    "account = PersonAccount(\"Assanatou\", \"Bah\")\n",
    "\n",
    "account.add_income(5000, \"Salary\")\n",
    "account.add_income(3000, \"Side hustle\")\n",
    "\n",
    "account.add_expense(1000, \"Rent\")\n",
    "account.add_expense(500, \"Utilities\")\n",
    "\n",
    "print(account.account_info())\n"
   ]
  }
 ],
 "metadata": {
  "kernelspec": {
   "display_name": "base",
   "language": "python",
   "name": "python3"
  },
  "language_info": {
   "codemirror_mode": {
    "name": "ipython",
    "version": 3
   },
   "file_extension": ".py",
   "mimetype": "text/x-python",
   "name": "python",
   "nbconvert_exporter": "python",
   "pygments_lexer": "ipython3",
   "version": "3.10.9"
  }
 },
 "nbformat": 4,
 "nbformat_minor": 2
}
