{
 "cells": [
  {
   "cell_type": "markdown",
   "metadata": {},
   "source": [
    "## Execises: Module 3 - Operators\n"
   ]
  },
  {
   "cell_type": "code",
   "execution_count": null,
   "metadata": {},
   "outputs": [],
   "source": [
    "# 1. Declare your age as integer variable\n",
    "age = 21\n",
    "\n",
    "# 2. Declare your height as a float variable\n",
    "height = 1.85\n",
    "\n",
    "# 3. Declare a variable that stores a complex number\n",
    "complex_num = 1+2j"
   ]
  },
  {
   "cell_type": "code",
   "execution_count": null,
   "metadata": {},
   "outputs": [],
   "source": [
    "# 5. Write a script that prompts the user to enter base and height of the triangle and calculate an area of this triangle (area = 0.5 x b x h)\n",
    "\n",
    "base = float(input('Enter the base: '))\n",
    "height = float(input('Enter the height: '))\n",
    "area = 0.5 * base * height\n",
    "print('The area of the triangle is: ', area)"
   ]
  },
  {
   "cell_type": "code",
   "execution_count": null,
   "metadata": {},
   "outputs": [],
   "source": [
    "# 5. Write a script that prompts the user to enter side a, side b, and side c of the triangle. Calculate the perimeter of the triangle (perimeter = a + b + c).\n",
    "\n",
    "side_a = int(input('Enter the side a: '))\n",
    "side_b = int(input('Enter the side b: '))\n",
    "side_c = int(input('Enter the side c: '))\n",
    "perimeter = side_a + side_b + side_c\n",
    "print('The perimeter of the triangle is: ', perimeter)"
   ]
  },
  {
   "cell_type": "code",
   "execution_count": null,
   "metadata": {},
   "outputs": [],
   "source": [
    "# 6. Get length and width of a rectangle using prompt. Calculate its area (area = length x width) and perimeter (perimeter = 2 x (length + width))\n",
    "\n",
    "length = int(input('Enter the length: '))\n",
    "width = int(input('Enter the width: '))\n",
    "area = length * width\n",
    "perimeter = 2 * (length + width)\n",
    "print('The area of the rectangle is: ', area)\n",
    "print('The perimeter of the rectangle is: ', perimeter)\n"
   ]
  },
  {
   "cell_type": "code",
   "execution_count": null,
   "metadata": {},
   "outputs": [],
   "source": [
    "# 7. Get the radius of a circle using prompt. Calculate the area (area = pi x r x r) and circumference (c = 2 x pi x r) where pi = 3.14.\n",
    "\n",
    "radius = float(input('Enter the radius: '))\n",
    "area = 3.14 * radius * radius\n",
    "circumference = 2 * 3.14 * radius\n",
    "print('The area of the circle is: ', area)\n",
    "print('The circumference of the circle is: ', circumference)"
   ]
  },
  {
   "cell_type": "code",
   "execution_count": null,
   "metadata": {},
   "outputs": [],
   "source": [
    "# 8. Calculate the slope, x-intercept and y-intercept of y = 2x -2\n",
    "\n",
    "slope1 = 2\n",
    "x_intercept = -2\n",
    "y_intercept = 0 - (2 * -2)\n",
    "print('The slope is: ', slope1)\n",
    "print('The x-intercept is: ', x_intercept)\n",
    "print('The y-intercept is: ', y_intercept)"
   ]
  },
  {
   "cell_type": "code",
   "execution_count": null,
   "metadata": {},
   "outputs": [],
   "source": [
    "# 9. Slope is m = (y2-y1)/(x2-x1). Find the slope and euclidean distance between point (2, 2) and point(6,10)\n",
    "\n",
    "x1 = 2\n",
    "y1 = 2\n",
    "x2 = 6\n",
    "y2 = 10\n",
    "\n",
    "slope2 = (y2 - y1) / (x2 - x1)\n",
    "euclidean_distance = ((10 - 2) ** 2 + (6 - 2) ** 2) ** 0.5\n",
    "print('The slope is: ', slope2)\n",
    "print('The euclidean distance is: ', euclidean_distance)    "
   ]
  },
  {
   "cell_type": "code",
   "execution_count": null,
   "metadata": {},
   "outputs": [],
   "source": [
    "# 10. Compare the slopes in tasks 8 and 9.\n",
    "\n",
    "print(slope1 == slope2)\n",
    "print('The slopes in tasks 8 and 9 are the same.')     "
   ]
  },
  {
   "cell_type": "code",
   "execution_count": null,
   "metadata": {},
   "outputs": [],
   "source": [
    "# 11. calculate the value of y (y = x^2 + 6x + 9). Try to use different x values and figure out at what x value y is 0.\n",
    "\n",
    "x = int(input('Enter the value of x: '))\n",
    "y = x**2 + 6*x + 9\n",
    "print('The value of y is: ', y)"
   ]
  },
  {
   "cell_type": "code",
   "execution_count": null,
   "metadata": {},
   "outputs": [],
   "source": [
    "# 12. find the length of 'python' and 'dragon' and make a falsy comparison\n",
    "\n",
    "print(len('python'))\n",
    "print(len('dragon'))\n",
    "print(len('python') != len('dragon'))\n",
    "print('The length of python and dragon are not the same.')"
   ]
  }
 ],
 "metadata": {
  "kernelspec": {
   "display_name": "base",
   "language": "python",
   "name": "python3"
  },
  "language_info": {
   "codemirror_mode": {
    "name": "ipython",
    "version": 3
   },
   "file_extension": ".py",
   "mimetype": "text/x-python",
   "name": "python",
   "nbconvert_exporter": "python",
   "pygments_lexer": "ipython3",
   "version": "3.10.9"
  }
 },
 "nbformat": 4,
 "nbformat_minor": 2
}
