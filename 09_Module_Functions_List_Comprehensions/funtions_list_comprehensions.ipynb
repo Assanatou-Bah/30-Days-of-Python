{
 "cells": [
  {
   "cell_type": "markdown",
   "metadata": {},
   "source": [
    "## Execises: Module 9 - Functions"
   ]
  },
  {
   "cell_type": "markdown",
   "metadata": {},
   "source": [
    "### Execises: Level 1"
   ]
  },
  {
   "cell_type": "markdown",
   "metadata": {},
   "source": []
  },
  {
   "cell_type": "code",
   "execution_count": null,
   "metadata": {},
   "outputs": [],
   "source": [
    "# 1. Declare a function named add_two_numbers. It takes two arguments and returns the sum of them.\n",
    "def add_two_numbers(a, b):\n",
    "    return a + b\n",
    "\n",
    "add_two_numbers(1, 2) "
   ]
  },
  {
   "cell_type": "code",
   "execution_count": null,
   "metadata": {},
   "outputs": [],
   "source": [
    "# 2. Area of a circle is calculated as follows: area = π * r * r. Write a function that calculates area_of_circle.\n",
    "\n",
    "def area_of_circle(r):\n",
    "    return 3.14 * r * r     # π = 3.14\n",
    "\n",
    "area_of_circle(3)"
   ]
  },
  {
   "cell_type": "code",
   "execution_count": null,
   "metadata": {},
   "outputs": [],
   "source": [
    "# 3. Write a function called add_all_nums which takes an arbitrary number of arguments, and sums all the arguments. \n",
    "# Check if all the list items are number types. If not do give a reasonable feedback.\n",
    "\n",
    "def add_all_nums(*args):\n",
    "    sum = 0\n",
    "    for num in args:\n",
    "        if isinstance(num, (int, float)):\n",
    "            sum += num\n",
    "        else:\n",
    "            return \"All list items are not numbers\"\n",
    "    return sum\n",
    "\n",
    "add_all_nums(1, 2, 3, 4, 'hello')"
   ]
  },
  {
   "cell_type": "code",
   "execution_count": null,
   "metadata": {},
   "outputs": [],
   "source": [
    "# 4. Temperature in °C can be converted to °F using this formula: °F = (°C * 9/5) + 32. Write a function which converts °C to °F, convert_celcius_to-fahrenheit.\n",
    "\n",
    "def convert_celcius_to_fahrenheit(c):\n",
    "    return (c * 9/5) + 32   \n",
    "\n",
    "convert_celcius_to_fahrenheit(32)"
   ]
  },
  {
   "cell_type": "code",
   "execution_count": null,
   "metadata": {},
   "outputs": [],
   "source": [
    "# 5. Write a function called check-season, it takes a month parameter and returns the season: Autumn, Winter, Spring or Summer.\n",
    "\n",
    "def check_season(month):\n",
    "    if month in ['September', 'October', 'November']:\n",
    "        return 'Autumn'\n",
    "    elif month in ['December', 'January', 'February']:\n",
    "        return 'Winter'\n",
    "    elif month in ['March', 'April', 'May']:\n",
    "        return 'Spring'\n",
    "    elif month in ['June', 'July', 'August']:\n",
    "        return 'Summer'\n",
    "    else:\n",
    "        return 'Invalid month'\n",
    "    \n",
    "check_season('January')"
   ]
  },
  {
   "cell_type": "code",
   "execution_count": null,
   "metadata": {},
   "outputs": [],
   "source": [
    "# 6. Write a function called calculate_slope which return the slope of a linear equation.\n",
    "\n",
    "def calculate_slope(x1, y1, x2, y2):\n",
    "    return (y2 - y1) / (x2 - x1)    \n",
    "\n",
    "calculate_slope(1, 2, 3, 4)"
   ]
  },
  {
   "cell_type": "code",
   "execution_count": null,
   "metadata": {},
   "outputs": [],
   "source": [
    "# 7. Quadratic equation is calculated as follows: ax² + bx + c = 0. Write a function which calculates solution set of a quadratic equation, solve_quadratic_eqn.\n",
    "\n",
    "def solve_quadratic_eqn(a, b, c):\n",
    "    D = b**2 - 4*a*c\n",
    "    x1 = (-b + D**0.5) / 2*a\n",
    "    x2 = (-b - D**0.5) / 2*a\n",
    "    return x1, x2\n",
    "solve_quadratic_eqn(1, 2, 1)"
   ]
  },
  {
   "cell_type": "code",
   "execution_count": null,
   "metadata": {},
   "outputs": [],
   "source": [
    "# 8. Declare a function named print_list. It takes a list as a parameter and it prints out each element of the list.\n",
    "\n",
    "def print_list(lst):\n",
    "    for item in lst:\n",
    "        print(item) \n",
    "        \n",
    "print_list([1, 2, 3, 4, 5])"
   ]
  },
  {
   "cell_type": "code",
   "execution_count": null,
   "metadata": {},
   "outputs": [],
   "source": [
    "# 9. Declare a function named reverse_list. It takes an array as a parameter and it returns the reverse of the array (use loops).\n",
    "\n",
    "def reverse_list(lst):\n",
    "    return lst[::-1]    \n",
    "\n",
    "print(reverse_list([1, 2, 3, 4, 5]))\n",
    "print(reverse_list(['A', 'B', 'C', 'D']))"
   ]
  },
  {
   "cell_type": "code",
   "execution_count": null,
   "metadata": {},
   "outputs": [],
   "source": [
    "# 10. Declare a function named capitalize_list_items. It takes a list as a parameter and it returns a capitalized list of items.\n",
    "\n",
    "def capitalize_list_items(lst):\n",
    "    return [item.upper() for item in lst]  \n",
    "\n",
    "capitalize_list_items(['hello', 'Assanatou', 'Bah'])"
   ]
  },
  {
   "cell_type": "code",
   "execution_count": null,
   "metadata": {},
   "outputs": [],
   "source": [
    "# 11. Declare a function named add_item. It takes a list and an item parameters. It returns a list with the item added at the end.\n",
    "\n",
    "def add_item(lst, item):\n",
    "    lst.append(item)\n",
    "    return lst  \n",
    "\n",
    "food_staff = ['Potato', 'Tomato', 'Mango', 'Milk']\n",
    "print(add_item(food_staff, 'Meat'))\n",
    "numbers = [2, 3, 7, 9]\n",
    "print(add_item(numbers, 5))"
   ]
  },
  {
   "cell_type": "code",
   "execution_count": null,
   "metadata": {},
   "outputs": [],
   "source": [
    "# 12. Declare a function named remove_item. It takes a list and an item parameters. It returns a list with the item removed from it.\n",
    "\n",
    "def remove_item(lst, item):\n",
    "    lst.remove(item)\n",
    "    return lst  \n",
    "\n",
    "food_staff = ['Potato', 'Tomato', 'Mango', 'Milk']\n",
    "print(remove_item(food_staff, 'Mango'))\n",
    "numbers = [2, 3, 7, 9]\n",
    "print(remove_item(numbers, 7))"
   ]
  },
  {
   "cell_type": "code",
   "execution_count": null,
   "metadata": {},
   "outputs": [],
   "source": [
    "# 13. Declare a function named sum_of_numbers. It takes a number parameter and it adds all the numbers in that range.\n",
    "\n",
    "def sum_of_numbers(n):  \n",
    "    return sum(range(n+1))\n",
    "\n",
    "print(sum_of_numbers(5))\n",
    "print(sum_of_numbers(10))\n",
    "print(sum_of_numbers(100))"
   ]
  },
  {
   "cell_type": "code",
   "execution_count": null,
   "metadata": {},
   "outputs": [],
   "source": [
    "# 14. Declare a function named sum_of_odds. It takes a number parameter and it adds all the odd numbers in that range.\n",
    "\n",
    "def sum_of_odds(n):\n",
    "    return sum([i for i in range(n+1) if i % 2 != 0])\n",
    "\n",
    "print(sum_of_odds(9))"
   ]
  },
  {
   "cell_type": "code",
   "execution_count": null,
   "metadata": {},
   "outputs": [],
   "source": [
    "# 15. Declare a function named sum_of_evens. It takes a number parameter and it adds all the even numbers in that - range.\n",
    "\n",
    "def sum_of_evens(n):\n",
    "    return sum([i for i in range(n+1) if i % 2 == 0])   \n",
    "\n",
    "print(sum_of_evens(8))"
   ]
  },
  {
   "cell_type": "markdown",
   "metadata": {},
   "source": [
    "### Execises: Level 2"
   ]
  },
  {
   "cell_type": "code",
   "execution_count": null,
   "metadata": {},
   "outputs": [],
   "source": [
    "# 1. Declare a function named evens_and_odds . It takes a positive integer as parameter and it counts number of evens and odds in the number.\n",
    "\n",
    "def evens_and_odds(n):\n",
    "    evens = len([i for i in range(n+1) if i % 2 == 0])\n",
    "    odds = len([i for i in range(n+1) if i % 2 != 0])\n",
    "    return f'The number of evens are {evens}\\nThe number of evens are {odds}'       \n",
    "\n",
    "print(evens_and_odds(100))"
   ]
  },
  {
   "cell_type": "code",
   "execution_count": null,
   "metadata": {},
   "outputs": [],
   "source": [
    "# 2. Call your function factorial, it takes a whole number as a parameter and it return a factorial of the number.\n",
    "\n",
    "def factorial(n):\n",
    "    if n == 0:\n",
    "        return 1\n",
    "    else:\n",
    "        return n * factorial(n-1)\n",
    "    \n",
    "print(factorial(7))"
   ]
  },
  {
   "cell_type": "code",
   "execution_count": null,
   "metadata": {},
   "outputs": [],
   "source": [
    "# 3. Call your function is_empty, it takes a parameter and it checks if it is empty or not.\n",
    "\n",
    "def is_empty(param):\n",
    "    if param:\n",
    "        return False\n",
    "    else:\n",
    "        return True\n",
    "    \n",
    "print(is_empty(''))"
   ]
  },
  {
   "cell_type": "code",
   "execution_count": null,
   "metadata": {},
   "outputs": [],
   "source": [
    "# 4. Write different functions which take lists. They should calculate_mean, calculate_median, calculate_mode, calculate_range, calculate_variance, calculate_std (standard deviation)\n",
    "\n",
    "def calculate_mean(lst):\n",
    "    return sum(lst) / len(lst)\n",
    "\n",
    "def calculate_median(lst):\n",
    "    lst.sort()\n",
    "    if len(lst) % 2 != 0:\n",
    "        return lst[len(lst) // 2]\n",
    "    else:\n",
    "        return (lst[len(lst) // 2] + lst[len(lst) // 2 - 1]) / 2\n",
    "    \n",
    "def calculate_mode(lst):\n",
    "    return max(set(lst), key=lst.count)\n",
    "\n",
    "def calculate_range(lst):\n",
    "    return max(lst) - min(lst)\n",
    "\n",
    "def calculate_variance(lst):\n",
    "    mean = sum(lst) / len(lst)\n",
    "    return sum([(i - mean) ** 2 for i in lst]) / len(lst)\n",
    "\n",
    "def calculate_std(lst):\n",
    "    return calculate_variance(lst) ** 0.5\n",
    "list = [25, 27, 30, 33]\n",
    "print(calculate_mean(list))\n",
    "print(calculate_median(list))    \n",
    "print(calculate_mode(list))   \n",
    "print(calculate_range(list))\n",
    "print(calculate_variance(list))\n",
    "print(calculate_std(list))\n"
   ]
  },
  {
   "cell_type": "markdown",
   "metadata": {},
   "source": [
    "### Execises: Level 3"
   ]
  },
  {
   "cell_type": "code",
   "execution_count": null,
   "metadata": {},
   "outputs": [],
   "source": [
    "# 1. Write a function called is_prime, which checks if a number is prime.\n",
    "\n",
    "def is_prime(n):\n",
    "    if n < 2:\n",
    "        return False\n",
    "    for i in range(2, n):\n",
    "        if n % i == 0:\n",
    "            return False\n",
    "    return True\n",
    "\n",
    "print(is_prime(13))"
   ]
  },
  {
   "cell_type": "code",
   "execution_count": null,
   "metadata": {},
   "outputs": [],
   "source": [
    "# 2. wWrite a functions which checks if all items are unique in the list.\n",
    "\n",
    "def is_unique(lst):\n",
    "    return len(lst) == len(set(lst))\n",
    "\n",
    "print(is_unique([1, 2, 3, 4, 5, 6, 7, 8, 9, 10]))"
   ]
  },
  {
   "cell_type": "code",
   "execution_count": null,
   "metadata": {},
   "outputs": [],
   "source": [
    "# 3. Write a function which checks if all the items of the list are of the same data type.\n",
    "\n",
    "def is_same_data_type(lst):\n",
    "    return len(set(map(type, lst))) == 1    \n",
    "\n",
    "print(is_same_data_type([1, 2, 3, 4, 5, 6.2, 7.6, 'hi']))"
   ]
  },
  {
   "cell_type": "code",
   "execution_count": null,
   "metadata": {},
   "outputs": [],
   "source": [
    "# 4. Write a function which check if provided variable is a valid python variable.\n",
    "\n",
    "def is_valid_variable(var):\n",
    "    return var.isidentifier()\n",
    "\n",
    "print(is_valid_variable('1hello'))\n",
    "print(is_valid_variable('hello_world'))\n",
    "print(is_valid_variable('_hello world'))"
   ]
  },
  {
   "cell_type": "code",
   "execution_count": 132,
   "metadata": {},
   "outputs": [
    {
     "name": "stdout",
     "output_type": "stream",
     "text": [
      "Most smoken languages:  ['English', 'French', 'Arabic', 'Spanish', 'Portuguese', 'Russian', 'Dutch', 'German', 'Chinese', 'Serbian']\n",
      "Most populated countries:\n",
      "China 1377422166\n",
      "India 1295210000\n",
      "United States of America 323947000\n",
      "Indonesia 258705000\n",
      "Brazil 206135893\n",
      "Pakistan 194125062\n",
      "Nigeria 186988000\n",
      "Bangladesh 161006790\n",
      "Russian Federation 146599183\n",
      "Japan 126960000\n"
     ]
    }
   ],
   "source": [
    "# 5. Go to the data folder and access the countries_data.py file\n",
    "# Create a function called the most_spoken_languages, it should return 10 or 20 most spoken languages in the world in descending order. \n",
    "# Create a function called the most_populated_countries, it should return 10 or 20 most populated countries in descending order.\n",
    "\n",
    "\n",
    "from countries_info import countries_data\n",
    "\n",
    "# most spoken languages\n",
    "\n",
    "def most_spoken_languages(countries_data, n):\n",
    "    languages = {}\n",
    "    for country in countries_data:\n",
    "        for language in country['languages']:\n",
    "            if language not in languages:\n",
    "                languages[language] = 1\n",
    "            else:\n",
    "                languages[language] += 1\n",
    "    return sorted(languages, key=languages.get, reverse=True)[:n]\n",
    "    \n",
    "print('Most smoken languages: ', most_spoken_languages(countries_data, 10))\n",
    "\n",
    "\n",
    "\n",
    "# most_populated_countries\n",
    "\n",
    "def most_populated_countries(countries_data, n):\n",
    "    return sorted(countries_data, key=lambda x: x['population'], reverse=True)[:n]\n",
    "\n",
    "print('Most populated countries:')\n",
    "\n",
    "for country in most_populated_countries(countries_data, 10):\n",
    "    print( country['name'], country['population'])"
   ]
  }
 ],
 "metadata": {
  "kernelspec": {
   "display_name": "base",
   "language": "python",
   "name": "python3"
  },
  "language_info": {
   "codemirror_mode": {
    "name": "ipython",
    "version": 3
   },
   "file_extension": ".py",
   "mimetype": "text/x-python",
   "name": "python",
   "nbconvert_exporter": "python",
   "pygments_lexer": "ipython3",
   "version": "3.10.9"
  }
 },
 "nbformat": 4,
 "nbformat_minor": 2
}
