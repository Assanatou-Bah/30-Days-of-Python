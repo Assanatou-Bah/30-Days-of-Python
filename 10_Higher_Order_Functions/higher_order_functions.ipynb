{
 "cells": [
  {
   "cell_type": "markdown",
   "metadata": {},
   "source": [
    "## Execises: Module 9 - Higher Order Functions"
   ]
  },
  {
   "cell_type": "markdown",
   "metadata": {},
   "source": [
    "### Execises: Level 1"
   ]
  },
  {
   "cell_type": "markdown",
   "metadata": {},
   "source": [
    "1. Explain the difference between map, filter, and reduce."
   ]
  },
  {
   "cell_type": "markdown",
   "metadata": {},
   "source": [
    "**Map**: Is a function that applies a given function to every item in an iterable, returning a new iterable with the transformed items.\n",
    "\n",
    "**Filter**: Is a function that filters elements in an iterable, keeping only the items for which a provided function returns True.\n",
    "\n",
    "**Reduce**: Is a function that repeatedly applies a given function to pairs of elements in an iterable, reducing it to a single cumulative value."
   ]
  },
  {
   "cell_type": "markdown",
   "metadata": {},
   "source": [
    "2. Explain the difference between higher order function, closure and decorator"
   ]
  },
  {
   "cell_type": "markdown",
   "metadata": {},
   "source": [
    "**Higher-Order Function**:\n",
    "A function that either takes another function as an argument or returns a function as its result. It enables abstraction and composition of functionality.\n",
    "\n",
    "**Closure**:\n",
    "A function that retains access to variables from its enclosing scope, even after the enclosing function has finished executing.\n",
    "\n",
    "**Decorator**:\n",
    "A higher-order function specifically designed to extend or modify the behavior of another function without altering its structure.\n",
    "\n",
    "\n",
    "\n",
    "Differences\n",
    "\n",
    "|Aspect|Higher-Order Function|Closure|Decorator|\n",
    "|------|---------------------|--------|---------|\n",
    "|Definition|Operates on functions (takes or returns)|A function with access to its enclosing scope's variables|A specialized higher-order function used to modify behavior|\n",
    "|Purpose|Abstraction or functional composition|Capturing and remembering state|Extending or enhancing functionality|\n",
    "|Structure|Generic: Takes/returns functions|Inner function remembers variables|Typically uses a wrapping mechanism|\n",
    "|Relationship|Broad concept|Nested function with state retention|Specific type of higher-order function|\n",
    "\n"
   ]
  },
  {
   "cell_type": "code",
   "execution_count": null,
   "metadata": {},
   "outputs": [],
   "source": [
    "# 3. Define a call function before map, filter or reduce\n",
    "\n",
    "numbers = [1, 2, 3, 4, 5, 6, 7]\n",
    "\n",
    "def factorial(n):\n",
    "    if n == 0:\n",
    "        return 1\n",
    "    else:\n",
    "        return n * factorial(n-1)\n",
    "    \n",
    "print(list(map(factorial, numbers)))"
   ]
  },
  {
   "cell_type": "code",
   "execution_count": null,
   "metadata": {},
   "outputs": [],
   "source": [
    "# 4. Use for loop to print each country in the country list\n",
    "\n",
    "countries = ['Estonia', 'Finland', 'Sweden', 'Denmark', 'Norway', 'Iceland']\n",
    "\n",
    "for country in countries:\n",
    "    print(country)"
   ]
  },
  {
   "cell_type": "code",
   "execution_count": null,
   "metadata": {},
   "outputs": [],
   "source": [
    "# 5. Use for to print each name in the names list \n",
    "\n",
    "names = ['Asabeneh', 'Lidiya', 'Ermias', 'Abraham']\n",
    "\n",
    "for name in names:\n",
    "    print(name)"
   ]
  },
  {
   "cell_type": "code",
   "execution_count": null,
   "metadata": {},
   "outputs": [],
   "source": [
    "# 6. Use for to print each number in the number list \n",
    "\n",
    "numbers = [1, 2, 3, 4, 5, 6, 7, 8, 9, 10]\n",
    "\n",
    "for number in numbers:\n",
    "    print(number)"
   ]
  },
  {
   "cell_type": "markdown",
   "metadata": {},
   "source": [
    "### Execises: Level 2"
   ]
  },
  {
   "cell_type": "code",
   "execution_count": null,
   "metadata": {},
   "outputs": [],
   "source": [
    "# 1. Use map to create a new list by changing each country to uppercase in the countries list\n",
    "\n",
    "countries = ['Estonia', 'Finland', 'Sweden', 'Denmark', 'Norway', 'Iceland']\n",
    "\n",
    "def uppercase(country):\n",
    "    return country.upper()\n",
    "\n",
    "print(list(map(uppercase, countries)))"
   ]
  },
  {
   "cell_type": "code",
   "execution_count": null,
   "metadata": {},
   "outputs": [],
   "source": [
    "# 2. Use map to create a new list by changing each number to its square in the numbers list\n",
    "\n",
    "numbers = [1, 2, 3, 4, 5, 6, 7, 8, 9, 10]\n",
    "\n",
    "def square(number):\n",
    "    return number ** 2\n",
    "\n",
    "print(list(map(square, numbers)))"
   ]
  },
  {
   "cell_type": "code",
   "execution_count": null,
   "metadata": {},
   "outputs": [],
   "source": [
    "# 3. Use map to change each name to uppercase in the names list\n",
    "\n",
    "names = ['Asabeneh', 'Lidiya', 'Ermias', 'Abraham']\n",
    "\n",
    "def uppercase(name):\n",
    "    return name.upper()\n",
    "\n",
    "print(list(map(uppercase, names)))"
   ]
  },
  {
   "cell_type": "code",
   "execution_count": null,
   "metadata": {},
   "outputs": [],
   "source": [
    "# 4. Use filter to filter out countries containing 'land'\n",
    "\n",
    "countries = ['Estonia', 'Finland', 'Sweden', 'Denmark', 'Norway', 'Iceland']\n",
    "\n",
    "def has_land(country):\n",
    "    return 'land' in country\n",
    "\n",
    "print(list(filter(has_land, countries)))"
   ]
  },
  {
   "cell_type": "code",
   "execution_count": null,
   "metadata": {},
   "outputs": [],
   "source": [
    "# 5. Use filter to filter out countries having exactly six characters\n",
    "\n",
    "countries = ['Estonia', 'Finland', 'Sweden', 'Denmark', 'Norway', 'Iceland']\n",
    "\n",
    "def has_six_characters(country):\n",
    "    return len(country) == 6\n",
    "\n",
    "print(list(filter(has_six_characters, countries)))"
   ]
  },
  {
   "cell_type": "code",
   "execution_count": null,
   "metadata": {},
   "outputs": [],
   "source": [
    "# 6. Use filter to filter out countries containing six letters and more in the country list \n",
    "\n",
    "countries = ['Estonia', 'Finland', 'Sweden', 'Denmark', 'Norway', 'Iceland']\n",
    "\n",
    "def has_more_than_six_characters(country):\n",
    "    return len(country) >= 6\n",
    "\n",
    "print(list(filter(has_more_than_six_characters, countries)))"
   ]
  },
  {
   "cell_type": "code",
   "execution_count": null,
   "metadata": {},
   "outputs": [],
   "source": [
    "# 7. Use filter to filter out countries starting with an 'E'\n",
    "\n",
    "countries = ['Estonia', 'Finland', 'Sweden', 'Denmark', 'Norway', 'Iceland']\n",
    "\n",
    "def starts_with_e(country):\n",
    "    return country[0] == 'E'\n",
    "\n",
    "print(list(filter(starts_with_e, countries)))"
   ]
  },
  {
   "cell_type": "code",
   "execution_count": null,
   "metadata": {},
   "outputs": [],
   "source": [
    "#  8. Chain two or more list iterators(eg. arr.map(callback).filter(callback).reduce(callback))\n",
    "\n",
    "countries = ['Estonia', 'Finland', 'Sweden', 'Denmark', 'Norway', 'Iceland']\n",
    "\n",
    "# Convert each country to uppercase\n",
    "uppercase_countries = map(lambda country: country.upper(), countries)\n",
    "\n",
    "# Filter out countries that contain 'LAND'\n",
    "filtered_countries = filter(lambda country: 'LAND' in country, uppercase_countries)\n",
    "\n",
    "# Concatenate the remaining country names into a single string\n",
    "result = reduce(lambda acc, country: acc + country + ' ', filtered_countries, '')\n",
    "\n",
    "print(result.strip())"
   ]
  },
  {
   "cell_type": "code",
   "execution_count": null,
   "metadata": {},
   "outputs": [],
   "source": [
    "# 9. Declare a function called get_string_lists which takes a list as a parameter and then returns a list only with string items    \n",
    "\n",
    "def get_string_lists(lst):\n",
    "    return list(filter(lambda item: isinstance(item, str), lst))    \n",
    "\n",
    "print(get_string_lists([1, 'Asabeneh', 3, 4, 'Python', 'JavaScript', 'React']))"
   ]
  },
  {
   "cell_type": "code",
   "execution_count": null,
   "metadata": {},
   "outputs": [],
   "source": [
    "# 10. Use reduce to sum all the numbers in the numbers list\n",
    "\n",
    "numbers = [1, 2, 3, 4, 5, 6, 7, 8, 9, 10]   \n",
    "\n",
    "def sum_numbers(num1, num2):\n",
    "    return num1 + num2\n",
    "\n",
    "print(reduce(sum_numbers, numbers))"
   ]
  },
  {
   "cell_type": "code",
   "execution_count": null,
   "metadata": {},
   "outputs": [],
   "source": [
    "# 11. Use reduce to concatenate all the countries and to produce this sentence: Estonia, Finland, Sweden, Denmark, Norway, and Iceland are north European countries\n",
    "\n",
    "countries = ['Estonia', 'Finland', 'Sweden', 'Denmark', 'Norway', 'Iceland']\n",
    "\n",
    "def concatenate_countries(country1, country2):\n",
    "    return f'{country1}, {country2}' if country2 != countries[-1] else f'{country1}, and {country2} are north European countries'\n",
    "\n",
    "print(reduce(concatenate_countries, countries)) "
   ]
  },
  {
   "cell_type": "code",
   "execution_count": null,
   "metadata": {},
   "outputs": [],
   "source": [
    "# 12. Declare a function called categorize_countries that returns a list of countries with some common pattern (you can find the countries list in this repository as countries.js(eg 'land', 'ia', 'island', 'stan')).\n",
    "\n",
    "from countries import countries \n",
    "\n",
    "def categorize_countries(pattern):\n",
    "    return list(filter(lambda country: any(p in country for p in pattern), countries))\n",
    "\n",
    "patterns = ['land', 'ia', 'island', 'stan']\n",
    "print(categorize_countries(patterns))"
   ]
  },
  {
   "cell_type": "code",
   "execution_count": null,
   "metadata": {},
   "outputs": [],
   "source": [
    "# 13. Create a function returning a dictionary, where keys stand for starting letters of the countries and values are the number of country names starting with that letter.    \n",
    "\n",
    "\n",
    "def countries_counter(countries):\n",
    "    countries_count = {}\n",
    "    for country in countries:\n",
    "        if country[0] in countries_count:\n",
    "            countries_count[country[0]] += 1\n",
    "        else:\n",
    "            countries_count[country[0]] = 1\n",
    "    return countries_count\n",
    "countries_count = countries_counter(countries)\n",
    "print(countries_count)  \n"
   ]
  },
  {
   "cell_type": "code",
   "execution_count": null,
   "metadata": {},
   "outputs": [],
   "source": [
    "# 14. Declare a function called get_first_ten_countries which returns the first ten countries in the countries list.\n",
    "\n",
    "def get_first_ten_countries(countries):\n",
    "    return countries[:10]\n",
    "\n",
    "print(get_first_ten_countries(countries))"
   ]
  },
  {
   "cell_type": "code",
   "execution_count": null,
   "metadata": {},
   "outputs": [],
   "source": [
    "# 15. Declare a function called get_last_ten_countries which returns the last ten countries in the countries list.\n",
    "\n",
    "def get_last_ten_countries(countries):\n",
    "    return countries[-10:]\n",
    "\n",
    "print(get_last_ten_countries(countries))"
   ]
  },
  {
   "cell_type": "markdown",
   "metadata": {},
   "source": [
    "### Execises: Level 3"
   ]
  },
  {
   "cell_type": "code",
   "execution_count": null,
   "metadata": {},
   "outputs": [],
   "source": [
    "# 1. Use the countries_data.py file and follow the tasks below:\n",
    "\n",
    "\n",
    "from countries_info import countries_data\n",
    "\n",
    "\n",
    "# Sort countries by name, by capital, by population\n",
    "\n",
    "countries_data.sort(key=lambda x: x['name'])\n",
    "countries_data.sort(key=lambda x: x['capital'])\n",
    "countries_data.sort(key=lambda x: x['population'], reverse=True)\n",
    "print(countries_data)\n"
   ]
  },
  {
   "cell_type": "code",
   "execution_count": null,
   "metadata": {},
   "outputs": [],
   "source": [
    "\n",
    "# Sort out the ten most spoken languages by location.   \n",
    "\n",
    "languages = {} # dictionary to store the count of each language\n",
    "for country in countries_data:\n",
    "    for language in country['languages']:\n",
    "        if language in languages:\n",
    "            languages[language] += 1\n",
    "        else:\n",
    "            languages[language] = 1 \n",
    "# sort the languages based on the count of each language\n",
    "languages = sorted(languages.items(), key=lambda x: x[1], reverse=True)\n",
    "print(languages[:10])"
   ]
  },
  {
   "cell_type": "code",
   "execution_count": null,
   "metadata": {},
   "outputs": [],
   "source": [
    "# Sort out the ten most populated countries\n",
    "\n",
    "def most_populated_countries(countries_data, n):\n",
    "    return sorted(countries_data, key=lambda x: x['population'], reverse=True)[:n]\n",
    "\n",
    "print('Most populated countries:')\n",
    "for country in most_populated_countries(countries_data, 10):\n",
    "    print( country['name'], country['population'])"
   ]
  }
 ],
 "metadata": {
  "kernelspec": {
   "display_name": "base",
   "language": "python",
   "name": "python3"
  },
  "language_info": {
   "codemirror_mode": {
    "name": "ipython",
    "version": 3
   },
   "file_extension": ".py",
   "mimetype": "text/x-python",
   "name": "python",
   "nbconvert_exporter": "python",
   "pygments_lexer": "ipython3",
   "version": "3.10.9"
  }
 },
 "nbformat": 4,
 "nbformat_minor": 2
}
